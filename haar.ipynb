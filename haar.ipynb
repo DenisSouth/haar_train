{
  "nbformat": 4,
  "nbformat_minor": 0,
  "metadata": {
    "colab": {
      "name": "haar.ipynb",
      "provenance": []
    },
    "kernelspec": {
      "name": "python3",
      "display_name": "Python 3"
    }
  },
  "cells": [
    {
      "cell_type": "code",
      "metadata": {
        "id": "tkU_MeGUfv4G",
        "colab_type": "code",
        "colab": {}
      },
      "source": [
        "# !opencv_traincascade"
      ],
      "execution_count": 0,
      "outputs": []
    },
    {
      "cell_type": "code",
      "metadata": {
        "id": "aLpyt5kbfxmM",
        "colab_type": "code",
        "colab": {}
      },
      "source": [
        "# !opencv_createsamples"
      ],
      "execution_count": 0,
      "outputs": []
    },
    {
      "cell_type": "code",
      "metadata": {
        "id": "qN5N_BcLjLhA",
        "colab_type": "code",
        "colab": {}
      },
      "source": [
        "# !opencv_traincascade"
      ],
      "execution_count": 0,
      "outputs": []
    },
    {
      "cell_type": "code",
      "metadata": {
        "id": "2yuyqdAKgRMB",
        "colab_type": "code",
        "colab": {}
      },
      "source": [
        "# монтировать диск\n",
        "from google.colab import drive\n",
        "drive.mount('/content/drive')"
      ],
      "execution_count": 0,
      "outputs": []
    },
    {
      "cell_type": "code",
      "metadata": {
        "id": "bdrI7y1IgglI",
        "colab_type": "code",
        "colab": {}
      },
      "source": [
        "# скопировать и разархивировать картинки \n",
        "!cp \"/content/drive/My Drive/smpls.zip\" /content\n",
        "!unzip  /content/smpls.zip"
      ],
      "execution_count": 0,
      "outputs": []
    },
    {
      "cell_type": "code",
      "metadata": {
        "id": "C63eCxsgg4MR",
        "colab_type": "code",
        "colab": {}
      },
      "source": [
        ""
      ],
      "execution_count": 0,
      "outputs": []
    },
    {
      "cell_type": "code",
      "metadata": {
        "id": "5bzw_q0th05p",
        "colab_type": "code",
        "colab": {}
      },
      "source": [
        "# создать файл со списком позитивных картинок\n",
        "import os\n",
        "pos_dir = \"pos/\"\n",
        "\n",
        "pos_list = \"\"\n",
        "for name in os.listdir(pos_dir):\n",
        "  if name.endswith(\".png\"):\n",
        "    if len(pos_list)<1:\n",
        "      pos_list =  pos_dir + name + \"  1  0 0 300 30\"\n",
        "    else:\n",
        "      pos_list = pos_list + \"\\r\\n\" +  pos_dir + name + \"  1  0 0 300 30\"\n",
        "\n",
        "with open('positives.txt', 'r+') as the_file:\n",
        "    the_file.write(pos_list)"
      ],
      "execution_count": 0,
      "outputs": []
    },
    {
      "cell_type": "code",
      "metadata": {
        "id": "VI98pcZQl0g7",
        "colab_type": "code",
        "colab": {}
      },
      "source": [
        "# # создать файл со списком негативных картинок\n",
        "neg_dir = \"neg/\"\n",
        "\n",
        "neg_list = \"\"\n",
        "for name in os.listdir(neg_dir):\n",
        "  if name.endswith(\".png\"):\n",
        "    if len(neg_list)<1:\n",
        "      neg_list =  neg_dir + name\n",
        "    else:\n",
        "      neg_list = neg_list + \"\\r\\n\" +  neg_dir + name\n",
        "\n",
        "with open('negatives.txt', 'r+') as the_file:\n",
        "    the_file.write(neg_list)"
      ],
      "execution_count": 0,
      "outputs": []
    },
    {
      "cell_type": "code",
      "metadata": {
        "id": "RssPI-DVsD4H",
        "colab_type": "code",
        "colab": {}
      },
      "source": [
        "# создать папку classifier для хаара, или очистить ее, а так же удалить вектор если есть\n",
        "!rm /content/positives.vec\n",
        "!rm -rf /content/classifier\n",
        "!mkdir /content/classifier"
      ],
      "execution_count": 0,
      "outputs": []
    },
    {
      "cell_type": "code",
      "metadata": {
        "id": "qO3gFNCwmuQX",
        "colab_type": "code",
        "colab": {}
      },
      "source": [
        "# из списка positives создать вектор -w ширика картинки, -h высота картинки\n",
        "#-w 300 -h 30\n",
        "!opencv_createsamples -info \"positives.txt\" -vec \"positives.vec\" -num 500  -w 50 -h 30 "
      ],
      "execution_count": 0,
      "outputs": []
    },
    {
      "cell_type": "code",
      "metadata": {
        "id": "K1rv_Yvynam_",
        "colab_type": "code",
        "colab": {}
      },
      "source": [
        "# обучить каскад -vec путь до файла позитивных векторов, -bg путь до списка негативных картиок, -w ширика картинки, -h высота картинки\n",
        "# результаты сохранятся в папке classifier, если параметры изменяются - ее надо очистить\n",
        "#-w 300 -h 30\n",
        "!opencv_traincascade -data classifier -vec /content/positives.vec -bg /content/negatives.txt\\\n",
        "   -numStages 20 -minHitRate 0.999 -maxFalseAlarmRate 0.5 -numPos 500\\\n",
        "   -numNeg 500 -w 50 -h 30 -mode ALL -precalcValBufSize 1024\\\n",
        "   -precalcIdxBufSize 1024"
      ],
      "execution_count": 0,
      "outputs": []
    },
    {
      "cell_type": "code",
      "metadata": {
        "id": "iu7rd0CQ9s1J",
        "colab_type": "code",
        "colab": {}
      },
      "source": [
        "# если обучение прервано раньше - чтоб скомпилировать готовый к использованию каскад\n",
        "# нужно заменить numStages на то число эпох которые уже обучились и лежат в каталоге classifier\n",
        "\n",
        "!opencv_traincascade -data classifier -vec /content/positives.vec -bg /content/negatives.txt\\\n",
        "   -numStages 3 -minHitRate 0.999 -maxFalseAlarmRate 0.5 -numPos 500\\\n",
        "   -numNeg 500 -w 50 -h 30 -mode ALL -precalcValBufSize 1024\\\n",
        "   -precalcIdxBufSize 1024"
      ],
      "execution_count": 0,
      "outputs": []
    },
    {
      "cell_type": "code",
      "metadata": {
        "id": "p3GhMdX9os5Y",
        "colab_type": "code",
        "colab": {}
      },
      "source": [
        "import os\n",
        "from PIL import Image\n",
        "import cv2\n",
        "from IPython.display import display\n",
        "\n",
        "def colab_imshow(frame):\n",
        "    if os.path.exists('temp.jpg'):\n",
        "        os.remove('temp.jpg')\n",
        "\n",
        "    height, width = frame.shape[:2]\n",
        "    frame = cv2.resize(frame, (500, int((500 / width) * height)), interpolation=cv2.INTER_CUBIC)\n",
        "    cv2.imwrite('pic.jpg', frame)\n",
        "    display(Image.open('pic.jpg'))\n",
        "    os.remove('pic.jpg')\n",
        "\n",
        "haarCascade = cv2.CascadeClassifier('/content/classifier/cascade.xml')\n",
        "\n",
        "image = cv2.imread('/content/classifier/img11.jpg')\n",
        "gray = cv2.cvtColor(image, cv2.COLOR_BGR2GRAY)\n",
        "\n",
        "haar_feed = haarCascade.detectMultiScale(\n",
        "        gray,\n",
        "        scaleFactor=1.3,\n",
        "        minNeighbors=3,\n",
        "        minSize=(1, 1),\n",
        "        maxSize=(50, 5)\n",
        ") \n",
        "\n",
        "for (x, y, w, h) in haar_feed:\n",
        "    cv2.rectangle(image, (x, y), (x+w, y+h), (0, 255, 0), 2)\n",
        "colab_imshow(image)"
      ],
      "execution_count": 0,
      "outputs": []
    },
    {
      "cell_type": "code",
      "metadata": {
        "id": "ojNlK-8AEuJk",
        "colab_type": "code",
        "colab": {}
      },
      "source": [
        ""
      ],
      "execution_count": 0,
      "outputs": []
    }
  ]
}